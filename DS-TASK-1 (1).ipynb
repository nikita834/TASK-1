{
 "cells": [
  {
   "cell_type": "markdown",
   "metadata": {},
   "source": [
    "#DATA SCIENCE AND BUSINESS ANALYTICS INTERN -SPARK FOUNDATION"
   ]
  },
  {
   "cell_type": "markdown",
   "metadata": {},
   "source": [
    "#GRIPAPR21"
   ]
  },
  {
   "cell_type": "markdown",
   "metadata": {},
   "source": [
    "AUTHOR-NIKITA VARSHNEY"
   ]
  },
  {
   "cell_type": "markdown",
   "metadata": {},
   "source": [
    "TASK 1:Prediction using Supervised ML"
    "A simple linear regression task as it involves just 2 variables i.e hours and score"
   ]
  },
  {
   "cell_type": "markdown",
   "metadata": {},
   "source": [
    "IMPORTING LIBRARIES"
   ]
  },
  {
   "cell_type": "code",
   "execution_count": 1,
   "metadata": {},
   "outputs": [],
   "source": [
    "import pandas as pd\n",
    "import numpy as np\n",
    "import matplotlib.pyplot as plt\n",
    "%matplotlib inline"
   ]
  },
  {
   "cell_type": "markdown",
   "metadata": {},
   "source": [
    "GET DATA"
   ]
  },
  {
   "cell_type": "code",
   "execution_count": 3,
   "metadata": {},
   "outputs": [
    {
     "name": "stdout",
     "output_type": "stream",
     "text": [
      "Data imported successfully\n"
     ]
    },
    {
     "data": {
      "text/html": [
       "<div>\n",
       "<style scoped>\n",
       "    .dataframe tbody tr th:only-of-type {\n",
       "        vertical-align: middle;\n",
       "    }\n",
       "\n",
       "    .dataframe tbody tr th {\n",
       "        vertical-align: top;\n",
       "    }\n",
       "\n",
       "    .dataframe thead th {\n",
       "        text-align: right;\n",
       "    }\n",
       "</style>\n",
       "<table border=\"1\" class=\"dataframe\">\n",
       "  <thead>\n",
       "    <tr style=\"text-align: right;\">\n",
       "      <th></th>\n",
       "      <th>Hours</th>\n",
       "      <th>Scores</th>\n",
       "    </tr>\n",
       "  </thead>\n",
       "  <tbody>\n",
       "    <tr>\n",
       "      <th>0</th>\n",
       "      <td>2.5</td>\n",
       "      <td>21</td>\n",
       "    </tr>\n",
       "    <tr>\n",
       "      <th>1</th>\n",
       "      <td>5.1</td>\n",
       "      <td>47</td>\n",
       "    </tr>\n",
       "    <tr>\n",
       "      <th>2</th>\n",
       "      <td>3.2</td>\n",
       "      <td>27</td>\n",
       "    </tr>\n",
       "    <tr>\n",
       "      <th>3</th>\n",
       "      <td>8.5</td>\n",
       "      <td>75</td>\n",
       "    </tr>\n",
       "    <tr>\n",
       "      <th>4</th>\n",
       "      <td>3.5</td>\n",
       "      <td>30</td>\n",
       "    </tr>\n",
       "  </tbody>\n",
       "</table>\n",
       "</div>"
      ],
      "text/plain": [
       "   Hours  Scores\n",
       "0    2.5      21\n",
       "1    5.1      47\n",
       "2    3.2      27\n",
       "3    8.5      75\n",
       "4    3.5      30"
      ]
     },
     "execution_count": 3,
     "metadata": {},
     "output_type": "execute_result"
    }
   ],
   "source": [
    "url = \"http://bit.ly/w-data\"\n",
    "score = pd.read_csv(url)\n",
    "print(\"Data imported successfully\")\n",
    "score.head()"
   ]
  },
  {
   "cell_type": "code",
   "execution_count": 5,
   "metadata": {},
   "outputs": [
    {
     "data": {
      "text/plain": [
       "Hours     float64\n",
       "Scores      int64\n",
       "dtype: object"
      ]
     },
     "execution_count": 5,
     "metadata": {},
     "output_type": "execute_result"
    }
   ],
   "source": [
    "score.dtypes"
   ]
  },
  {
   "cell_type": "code",
   "execution_count": 7,
   "metadata": {},
   "outputs": [
    {
     "data": {
      "text/html": [
       "<div>\n",
       "<style scoped>\n",
       "    .dataframe tbody tr th:only-of-type {\n",
       "        vertical-align: middle;\n",
       "    }\n",
       "\n",
       "    .dataframe tbody tr th {\n",
       "        vertical-align: top;\n",
       "    }\n",
       "\n",
       "    .dataframe thead th {\n",
       "        text-align: right;\n",
       "    }\n",
       "</style>\n",
       "<table border=\"1\" class=\"dataframe\">\n",
       "  <thead>\n",
       "    <tr style=\"text-align: right;\">\n",
       "      <th></th>\n",
       "      <th>Hours</th>\n",
       "      <th>Scores</th>\n",
       "    </tr>\n",
       "  </thead>\n",
       "  <tbody>\n",
       "    <tr>\n",
       "      <th>count</th>\n",
       "      <td>25.000000</td>\n",
       "      <td>25.000000</td>\n",
       "    </tr>\n",
       "    <tr>\n",
       "      <th>mean</th>\n",
       "      <td>5.012000</td>\n",
       "      <td>51.480000</td>\n",
       "    </tr>\n",
       "    <tr>\n",
       "      <th>std</th>\n",
       "      <td>2.525094</td>\n",
       "      <td>25.286887</td>\n",
       "    </tr>\n",
       "    <tr>\n",
       "      <th>min</th>\n",
       "      <td>1.100000</td>\n",
       "      <td>17.000000</td>\n",
       "    </tr>\n",
       "    <tr>\n",
       "      <th>25%</th>\n",
       "      <td>2.700000</td>\n",
       "      <td>30.000000</td>\n",
       "    </tr>\n",
       "    <tr>\n",
       "      <th>50%</th>\n",
       "      <td>4.800000</td>\n",
       "      <td>47.000000</td>\n",
       "    </tr>\n",
       "    <tr>\n",
       "      <th>75%</th>\n",
       "      <td>7.400000</td>\n",
       "      <td>75.000000</td>\n",
       "    </tr>\n",
       "    <tr>\n",
       "      <th>max</th>\n",
       "      <td>9.200000</td>\n",
       "      <td>95.000000</td>\n",
       "    </tr>\n",
       "  </tbody>\n",
       "</table>\n",
       "</div>"
      ],
      "text/plain": [
       "           Hours     Scores\n",
       "count  25.000000  25.000000\n",
       "mean    5.012000  51.480000\n",
       "std     2.525094  25.286887\n",
       "min     1.100000  17.000000\n",
       "25%     2.700000  30.000000\n",
       "50%     4.800000  47.000000\n",
       "75%     7.400000  75.000000\n",
       "max     9.200000  95.000000"
      ]
     },
     "execution_count": 7,
     "metadata": {},
     "output_type": "execute_result"
    }
   ],
   "source": [
    "score.describe()"
   ]
  },
  {
   "cell_type": "markdown",
   "metadata": {},
   "source": [
    "DATA VISUALIZATION"
   ]
  },
  {
   "cell_type": "code",
   "execution_count": 9,
   "metadata": {},
   "outputs": [
    {
     "data": {
      "image/png": "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\n",
      "text/plain": [
       "<Figure size 432x288 with 1 Axes>"
      ]
     },
     "metadata": {
      "needs_background": "light"
     },
     "output_type": "display_data"
    }
   ],
   "source": [
    "score.plot(x='Hours', y='Scores', style='o')  \n",
    "plt.title('Hours vs Percentage')  \n",
    "plt.xlabel('Hours Studied')  \n",
    "plt.ylabel('Percentage Score')  \n",
    "plt.show()"
   ]
  },
  {
   "cell_type": "markdown",
   "metadata": {},
   "source": [
    "PREPARE THE DATA"
   ]
  },
  {
   "cell_type": "code",
   "execution_count": 10,
   "metadata": {},
   "outputs": [],
   "source": [
    "X = score.iloc[:, :-1].values  \n",
    "y = score.iloc[:, 1].values"
   ]
  },
  {
   "cell_type": "code",
   "execution_count": 13,
   "metadata": {},
   "outputs": [],
   "source": [
    "from sklearn.model_selection import train_test_split  \n",
    "X_train, X_test, y_train, y_test = train_test_split(X, y, \n",
    "                            test_size=0.2, random_state=0)"
   ]
  },
  {
   "cell_type": "code",
   "execution_count": 14,
   "metadata": {},
   "outputs": [
    {
     "data": {
      "text/plain": [
       "LinearRegression()"
      ]
     },
     "execution_count": 14,
     "metadata": {},
     "output_type": "execute_result"
    }
   ],
   "source": [
    "from sklearn.linear_model import LinearRegression\n",
    "reg=LinearRegression()\n",
    "reg.fit(X_train,y_train)"
   ]
  },
  {
   "cell_type": "code",
   "execution_count": 15,
   "metadata": {},
   "outputs": [
    {
     "data": {
      "image/png": "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\n",
      "text/plain": [
       "<Figure size 432x288 with 1 Axes>"
      ]
     },
     "metadata": {
      "needs_background": "light"
     },
     "output_type": "display_data"
    }
   ],
   "source": [
    "# Plotting for the test data\n",
    "plt.scatter(X_train,y_train)\n",
    "plt.title('Training set')\n",
    "plt.plot(X_train,reg.predict(X_train))\n",
    "plt.xlabel('Hour Studied')\n",
    "plt.ylabel('Percentage Score')\n",
    "plt.show()"
   ]
  },
  {
   "cell_type": "code",
   "execution_count": 16,
   "metadata": {},
   "outputs": [
    {
     "data": {
      "text/plain": [
       "0.9515510725211552"
      ]
     },
     "execution_count": 16,
     "metadata": {},
     "output_type": "execute_result"
    }
   ],
   "source": [
    "reg.score(X_train,y_train)"
   ]
  },
  {
   "cell_type": "code",
   "execution_count": 17,
   "metadata": {},
   "outputs": [
    {
     "data": {
      "image/png": "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\n",
      "text/plain": [
       "<Figure size 432x288 with 1 Axes>"
      ]
     },
     "metadata": {
      "needs_background": "light"
     },
     "output_type": "display_data"
    }
   ],
   "source": [
    "# Plotting the regression line\n",
    "line = reg.coef_*X+reg.intercept_\n",
    "# Plotting for the test data\n",
    "plt.scatter(X_train,y_train)\n",
    "plt.title('Training set')\n",
    "plt.plot(X_train,reg.predict(X_train))\n",
    "plt.xlabel('Hour Studied')\n",
    "plt.ylabel('Percentage Score')\n",
    "plt.show()"
   ]
  },
  {
   "cell_type": "code",
   "execution_count": 18,
   "metadata": {},
   "outputs": [
    {
     "name": "stdout",
     "output_type": "stream",
     "text": [
      "[[1.5]\n",
      " [3.2]\n",
      " [7.4]\n",
      " [2.5]\n",
      " [5.9]]\n"
     ]
    }
   ],
   "source": [
    "print(X_test) # Testing data - In Hours\n",
    "y_pred = reg.predict(X_test)"
   ]
  },
  {
   "cell_type": "code",
   "execution_count": 19,
   "metadata": {},
   "outputs": [
    {
     "name": "stdout",
     "output_type": "stream",
     "text": [
      "No of Hours = 9.25\n",
      "Predicted Score = 93.69173248737538\n"
     ]
    }
   ],
   "source": [
    "hours=9.25\n",
    "own_pred=reg.predict([[hours]])\n",
    "print(\"No of Hours = {}\".format(hours))\n",
    "print(\"Predicted Score = {}\".format((own_pred)[0]))"
   ]
  },
  {
   "cell_type": "code",
   "execution_count": 20,
   "metadata": {},
   "outputs": [
    {
     "name": "stdout",
     "output_type": "stream",
     "text": [
      "Mean Absolute Error: 4.183859899002975\n"
     ]
    }
   ],
   "source": [
    "from sklearn import metrics  \n",
    "print('Mean Absolute Error:', \n",
    "      metrics.mean_absolute_error(y_test, y_pred))"
   ]
  },
  {
   "cell_type": "code",
   "execution_count": 21,
   "metadata": {},
   "outputs": [
    {
     "data": {
      "image/png": "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\n",
      "text/plain": [
       "<Figure size 432x288 with 1 Axes>"
      ]
     },
     "metadata": {
      "needs_background": "light"
     },
     "output_type": "display_data"
    }
   ],
   "source": [
    "# Visualizing the training set\n",
    "plt.scatter(X_train,y_train)\n",
    "plt.title('Training set')\n",
    "plt.plot(X_train,reg.predict(X_train))\n",
    "plt.xlabel('Hour Studied')\n",
    "plt.ylabel('Percentage Score')\n",
    "plt.show()"
   ]
  },
  {
   "cell_type": "code",
   "execution_count": null,
   "metadata": {},
   "outputs": [],
   "source": []
  }
 ],
 "metadata": {
  "kernelspec": {
   "display_name": "Python 3",
   "language": "python",
   "name": "python3"
  },
  "language_info": {
   "codemirror_mode": {
    "name": "ipython",
    "version": 3
   },
   "file_extension": ".py",
   "mimetype": "text/x-python",
   "name": "python",
   "nbconvert_exporter": "python",
   "pygments_lexer": "ipython3",
   "version": "3.8.3"
  }
 },
 "nbformat": 4,
 "nbformat_minor": 4
}
